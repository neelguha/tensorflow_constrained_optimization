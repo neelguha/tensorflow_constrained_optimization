{
 "cells": [
  {
   "cell_type": "code",
   "execution_count": 1,
   "metadata": {},
   "outputs": [],
   "source": [
    "%load_ext autoreload\n",
    "%autoreload 2"
   ]
  },
  {
   "cell_type": "code",
   "execution_count": 2,
   "metadata": {},
   "outputs": [],
   "source": [
    "import json, os\n",
    "import pandas as pd\n",
    "import numpy as np\n",
    "import matplotlib.pyplot as plt"
   ]
  },
  {
   "cell_type": "code",
   "execution_count": 3,
   "metadata": {},
   "outputs": [],
   "source": [
    "with open(\"../results/rate_constraints/adult-income/trials/results.json\", 'r') as in_file:\n",
    "    results = json.load(in_file)"
   ]
  },
  {
   "cell_type": "code",
   "execution_count": 13,
   "metadata": {},
   "outputs": [],
   "source": [
    "def compute_overall_score(d):\n",
    "    # compute mean of violations\n",
    "    return np.mean(np.array(list(d.values())))"
   ]
  },
  {
   "cell_type": "markdown",
   "metadata": {},
   "source": [
    "# Result 1: Overall constraint satisfaction score "
   ]
  },
  {
   "cell_type": "code",
   "execution_count": 46,
   "metadata": {},
   "outputs": [],
   "source": [
    "all_scores = []\n",
    "constraint_set = ['0', '5', '10', '15', '22']\n",
    "for num_constraints in constraint_set:\n",
    "    trials = results[num_constraints]\n",
    "    trial_scores = []\n",
    "    for trial_num in trials.keys():\n",
    "        score = compute_overall_score(trials[trial_num]['test_violation'])\n",
    "        trial_scores.append(score)\n",
    "    all_scores.append(trial_scores)"
   ]
  },
  {
   "cell_type": "code",
   "execution_count": 49,
   "metadata": {},
   "outputs": [],
   "source": [
    "min_scores = []\n",
    "mean_scores = []\n",
    "max_scores = []\n",
    "for i in range(len(all_scores)):\n",
    "    if i == 0:\n",
    "        continue\n",
    "    min_scores.append(min(all_scores[i]))\n",
    "    mean_scores.append(np.mean(all_scores[i]))\n",
    "    max_scores.append(max(all_scores[i]))\n",
    "mean_scores = np.array(mean_scores)\n",
    "min_scores = np.array(min_scores)\n",
    "max_scores = np.array(max_scores)"
   ]
  },
  {
   "cell_type": "code",
   "execution_count": 50,
   "metadata": {},
   "outputs": [
    {
     "data": {
      "image/png": "[encoded data removed]",
      "text/plain": [
       "<matplotlib.figure.Figure at 0x117d6d588>"
      ]
     },
     "metadata": {},
     "output_type": "display_data"
    }
   ],
   "source": [
    "active_constraint_set = [5, 10, 15, 22]\n",
    "plt.plot(active_constraint_set, mean_scores)\n",
    "plt.fill_between(active_constraint_set, mean_scores - min_scores, mean_scores + max_scores, alpha=0.25)\n",
    "plt.title(\"Test constraint set\")\n",
    "#plt.xlabel(\"Training Episode\")\n",
    "#plt.ylabel(\"Reward\")\n",
    "#plt.savefig(\"plots/rewards.png\")\n",
    "plt.hlines(y=0.2, xmin=5, xmax=22)\n",
    "plt.show()"
   ]
  },
  {
   "cell_type": "code",
   "execution_count": null,
   "metadata": {},
   "outputs": [],
   "source": []
  }
 ],
 "metadata": {
  "kernelspec": {
   "display_name": "Python 3",
   "language": "python",
   "name": "python3"
  },
  "language_info": {
   "codemirror_mode": {
    "name": "ipython",
    "version": 3
   },
   "file_extension": ".py",
   "mimetype": "text/x-python",
   "name": "python",
   "nbconvert_exporter": "python",
   "pygments_lexer": "ipython3",
   "version": "3.6.4"
  }
 },
 "nbformat": 4,
 "nbformat_minor": 2
}
