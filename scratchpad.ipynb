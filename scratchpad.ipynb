{
 "cells": [
  {
   "cell_type": "code",
   "execution_count": 1,
   "metadata": {},
   "outputs": [],
   "source": [
    "import os \n",
    "import pandas as pd"
   ]
  },
  {
   "cell_type": "code",
   "execution_count": 21,
   "metadata": {},
   "outputs": [],
   "source": [
    "DATA_DIR= \"../../data/\""
   ]
  },
  {
   "cell_type": "code",
   "execution_count": 22,
   "metadata": {},
   "outputs": [],
   "source": [
    "data_dir = os.path.join(DATA_DIR, \"ipums_small\")\n",
    "train = pd.read_pickle(os.path.join(data_dir, 'train'))"
   ]
  },
  {
   "cell_type": "code",
   "execution_count": 24,
   "metadata": {},
   "outputs": [
    {
     "name": "stdout",
     "output_type": "stream",
     "text": [
      "Protected columns: ['race__1+ other Micronesian races (2000,ACS)', 'race__2+ Amer. Indian tribes (2000,ACS)', 'race__AIAN and Asian Indian', 'race__AIAN and Filipino (2000 1%)', 'race__AIAN and other race write_in', 'race__AIAN, Asian, PI, other race write_in', 'race__Alaskan Athabaskan', 'race__Aleut', 'race__Apache', 'race__Asian (Chinese, Japanese, Korean, Vietnamese); and Native Hawaiian or PI; and Other', 'race__Asian Indian (Hindu 1920_1940)', 'race__Asian Indian and Asian write_in', 'race__Asian Indian and other race write_in', 'race__Asian write_in and other race write_in', 'race__Asian, PI, other race write_in', 'race__Bangladeshi', 'race__Bhutanese', 'race__Black and AIAN', 'race__Black and Asian Indian', 'race__Black and Asian write_in', 'race__Black and Chinese', 'race__Black and Filipino', 'race__Black and Japanese', 'race__Black and Korean', 'race__Black and PI write_in', 'race__Black and other Asian race(s)', 'race__Black and other PI race(s)', 'race__Black and other race write_in', 'race__Black, AIAN, Asian, PI, other race write_in', 'race__Black, Asian, PI, other race write_in', 'race__Black/African American/Negro', 'race__Blackfoot', 'race__Burmese', 'race__Cambodian', 'race__Cherokee', 'race__Cheyenne', 'race__Chickasaw', 'race__Chinese', 'race__Chinese and Asian write_in', 'race__Chinese and Filipino', 'race__Chinese and Hawaiian', 'race__Chinese and Japanese', 'race__Chinese and Korean', 'race__Chinese and Vietnamese', 'race__Chinese, Filipino, Hawaiian (2000 1%)', 'race__Chippewa', 'race__Choctaw', 'race__Comanche', 'race__Creek', 'race__Crow', 'race__Fijian', 'race__Filipino', 'race__Filipino and Hawaiian', 'race__Filipino and PI write_in', 'race__Filipino and other race write_in', 'race__Guamanian/Chamorro', 'race__Hawaiian', 'race__Hmong', 'race__Hopi', 'race__Indonesian', 'race__Inupiat', 'race__Iroquois', 'race__Japanese', 'race__Japanese and Filipino', 'race__Japanese and Hawaiian (2000 1%)', 'race__Korean', 'race__Laotian', 'race__Lumbee', 'race__Malaysian', 'race__Mexican American Indian', 'race__Mongolian', 'race__Native Hawaiian or PI other race(s)', 'race__Navajo', 'race__Nepalese', 'race__Other Alaska Native tribe(s) (2000,ACS)', 'race__Other Amer. Indian tribe (2000,ACS)', 'race__Other Asian race combinations', 'race__Other Asian race(s) and PI race(s)', 'race__Other Asian, n.e.c.', 'race__Other race, n.e.c.', 'race__PI and other race write_in:', 'race__Pacific Islander, n.s.', 'race__Pakistani', 'race__Pima', 'race__Potawatomi', 'race__Pueblo', 'race__Puget Sound Salish', 'race__Samoan', 'race__Seminole', 'race__Sioux', 'race__South American Indian', 'race__Sri Lankan', 'race__Taiwanese', 'race__Thai', 'race__Tlingit (Tlingit_Haida, 2000/ACS)', 'race__Tohono O Odham', 'race__Tongan', 'race__Tribe not specified', 'race__Two specified Asian (Chinese and other Asian, Chinese and Japanese, Japanese and other Asian, Korean and other Asian); Native Hawaiian/PI; and Other Race', 'race__Vietnamese', 'race__White', 'race__White and AIAN', 'race__White and Asian Indian', 'race__White and Black', 'race__White and Chinese', 'race__White and Filipino', 'race__White and Guamanian', 'race__White and Japanese', 'race__White and Korean', 'race__White and Native Hawaiian', 'race__White and PI write_in', 'race__White and Samoan', 'race__White and Vietnamese', 'race__White and other Asian race(s)', 'race__White and other race write_in', 'race__White, AIAN and Filipino', 'race__White, AIAN, Asian', 'race__White, AIAN, Asian, PI', 'race__White, AIAN, other race write_in', 'race__White, Asian write_in, other race write_in (2000 1%)', 'race__White, Asian, PI, other race write_in', 'race__White, Asian, other race write_in', 'race__White, Black, AIAN', 'race__White, Black, AIAN, Asian', 'race__White, Black, AIAN, Asian, PI, other race write_in', 'race__White, Black, AIAN, PI, other race write_in', 'race__White, Black, Asian', 'race__White, Black, Asian, PI, other race write_in', 'race__White, Black, and Filipino', 'race__White, Black, other race write_in', 'race__White, Chinese, Filipino, Hawaiian (2000 1%)', 'race__White, Chinese, Hawaiian', 'race__White, Chinese, Japanese, Native Hawaiian', 'race__White, Filipino, Hawaiian', 'race__White, Filipino, other race write_in (2000 1%)', 'race__White, Japanese, Hawaiian (2000 1%)', 'race__White, PI, other race write_in', 'race__Yaqui', \"race__Yup'ik\", 'age__0', 'age__1', 'age__2', 'age__3', 'age__4', 'age__5', 'age__6', 'age__7', 'age__8', 'age__9', 'gender_Female', 'gender_Male']\n"
     ]
    }
   ],
   "source": [
    "all_columns = list(train.columns)\n",
    "PROTECTED_COLUMNS = [col for col in all_columns if 'age_' in col or 'gender_' in col or 'race_' in col]\n",
    "print(\"Protected columns:\", PROTECTED_COLUMNS)\n",
    "LABEL_COLUMN = ['INCTOT']"
   ]
  },
  {
   "cell_type": "code",
   "execution_count": 25,
   "metadata": {},
   "outputs": [
    {
     "data": {
      "text/plain": [
       "Index(['YEAR', 'BIRTHYR', 'YRMARR', 'RACE', 'YRNATUR', 'YRIMMIG', 'YRSUSA1',\n",
       "       'YRSUSA2', 'HINSEMP', 'HINSIHS',\n",
       "       ...\n",
       "       'DEGFIELD_N/A',\n",
       "       'DEGFIELD_Nuclear, Industrial Radiology, and Biological Technologies',\n",
       "       'DEGFIELD_Philosophy and Religious Studies',\n",
       "       'DEGFIELD_Physical Fitness, Parks, Recreation, and Leisure',\n",
       "       'DEGFIELD_Physical Sciences', 'DEGFIELD_Psychology',\n",
       "       'DEGFIELD_Public Affairs, Policy, and Social Work',\n",
       "       'DEGFIELD_Social Sciences', 'DEGFIELD_Theology and Religious Vocations',\n",
       "       'DEGFIELD_Transportation Sciences and Technologies'],\n",
       "      dtype='object', length=622)"
      ]
     },
     "execution_count": 25,
     "metadata": {},
     "output_type": "execute_result"
    }
   ],
   "source": [
    "train.keys()"
   ]
  },
  {
   "cell_type": "code",
   "execution_count": null,
   "metadata": {},
   "outputs": [],
   "source": []
  }
 ],
 "metadata": {
  "kernelspec": {
   "display_name": "Python 3",
   "language": "python",
   "name": "python3"
  },
  "language_info": {
   "codemirror_mode": {
    "name": "ipython",
    "version": 3
   },
   "file_extension": ".py",
   "mimetype": "text/x-python",
   "name": "python",
   "nbconvert_exporter": "python",
   "pygments_lexer": "ipython3",
   "version": "3.6.4"
  }
 },
 "nbformat": 4,
 "nbformat_minor": 2
}
