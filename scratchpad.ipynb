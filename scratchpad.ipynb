{
 "cells": [
  {
   "cell_type": "code",
   "execution_count": 1,
   "metadata": {},
   "outputs": [],
   "source": [
    "import os \n",
    "import pandas as pd\n",
    "from experiments import *"
   ]
  },
  {
   "cell_type": "code",
   "execution_count": 2,
   "metadata": {},
   "outputs": [],
   "source": [
    "DATA_DIR= \"../../data/\"\n",
    "os.environ['fairness_data'] = DATA_DIR\n",
    "os.environ['results_dir'] = \"\""
   ]
  },
  {
   "cell_type": "code",
   "execution_count": 3,
   "metadata": {},
   "outputs": [],
   "source": [
    "data_dir = os.path.join(DATA_DIR, \"ipums\")\n",
    "train = pd.read_pickle(os.path.join(data_dir, 'small_train'))\n",
    "test = pd.read_pickle(os.path.join(data_dir, 'small_test'))"
   ]
  },
  {
   "cell_type": "code",
   "execution_count": 4,
   "metadata": {},
   "outputs": [
    {
     "data": {
      "text/html": [
       "<div>\n",
       "<style scoped>\n",
       "    .dataframe tbody tr th:only-of-type {\n",
       "        vertical-align: middle;\n",
       "    }\n",
       "\n",
       "    .dataframe tbody tr th {\n",
       "        vertical-align: top;\n",
       "    }\n",
       "\n",
       "    .dataframe thead th {\n",
       "        text-align: right;\n",
       "    }\n",
       "</style>\n",
       "<table border=\"1\" class=\"dataframe\">\n",
       "  <thead>\n",
       "    <tr style=\"text-align: right;\">\n",
       "      <th></th>\n",
       "      <th>BIRTHYR</th>\n",
       "      <th>YRIMMIG</th>\n",
       "      <th>HEALTH_LABEL</th>\n",
       "      <th>INCOME_LABEL</th>\n",
       "      <th>INCWELFR</th>\n",
       "      <th>INCINVST</th>\n",
       "      <th>POVERTY</th>\n",
       "      <th>MARRNO_Married once</th>\n",
       "      <th>MARRNO_Married thrice (or more)</th>\n",
       "      <th>MARRNO_Married twice (or more)</th>\n",
       "      <th>...</th>\n",
       "      <th>DEGFIELD_N/A</th>\n",
       "      <th>DEGFIELD_Nuclear, Industrial Radiology, and Biological Technologies</th>\n",
       "      <th>DEGFIELD_Philosophy and Religious Studies</th>\n",
       "      <th>DEGFIELD_Physical Fitness, Parks, Recreation, and Leisure</th>\n",
       "      <th>DEGFIELD_Physical Sciences</th>\n",
       "      <th>DEGFIELD_Psychology</th>\n",
       "      <th>DEGFIELD_Public Affairs, Policy, and Social Work</th>\n",
       "      <th>DEGFIELD_Social Sciences</th>\n",
       "      <th>DEGFIELD_Theology and Religious Vocations</th>\n",
       "      <th>DEGFIELD_Transportation Sciences and Technologies</th>\n",
       "    </tr>\n",
       "  </thead>\n",
       "  <tbody>\n",
       "    <tr>\n",
       "      <th>911979</th>\n",
       "      <td>2006</td>\n",
       "      <td>0000</td>\n",
       "      <td>True</td>\n",
       "      <td>True</td>\n",
       "      <td>99999</td>\n",
       "      <td>999999</td>\n",
       "      <td>501</td>\n",
       "      <td>0</td>\n",
       "      <td>0</td>\n",
       "      <td>0</td>\n",
       "      <td>...</td>\n",
       "      <td>1</td>\n",
       "      <td>0</td>\n",
       "      <td>0</td>\n",
       "      <td>0</td>\n",
       "      <td>0</td>\n",
       "      <td>0</td>\n",
       "      <td>0</td>\n",
       "      <td>0</td>\n",
       "      <td>0</td>\n",
       "      <td>0</td>\n",
       "    </tr>\n",
       "    <tr>\n",
       "      <th>443281</th>\n",
       "      <td>1938</td>\n",
       "      <td>1980</td>\n",
       "      <td>False</td>\n",
       "      <td>False</td>\n",
       "      <td>00000</td>\n",
       "      <td>000000</td>\n",
       "      <td>297</td>\n",
       "      <td>1</td>\n",
       "      <td>0</td>\n",
       "      <td>0</td>\n",
       "      <td>...</td>\n",
       "      <td>1</td>\n",
       "      <td>0</td>\n",
       "      <td>0</td>\n",
       "      <td>0</td>\n",
       "      <td>0</td>\n",
       "      <td>0</td>\n",
       "      <td>0</td>\n",
       "      <td>0</td>\n",
       "      <td>0</td>\n",
       "      <td>0</td>\n",
       "    </tr>\n",
       "    <tr>\n",
       "      <th>2099469</th>\n",
       "      <td>1933</td>\n",
       "      <td>0000</td>\n",
       "      <td>True</td>\n",
       "      <td>True</td>\n",
       "      <td>00000</td>\n",
       "      <td>001700</td>\n",
       "      <td>420</td>\n",
       "      <td>1</td>\n",
       "      <td>0</td>\n",
       "      <td>0</td>\n",
       "      <td>...</td>\n",
       "      <td>0</td>\n",
       "      <td>0</td>\n",
       "      <td>0</td>\n",
       "      <td>0</td>\n",
       "      <td>0</td>\n",
       "      <td>0</td>\n",
       "      <td>0</td>\n",
       "      <td>0</td>\n",
       "      <td>0</td>\n",
       "      <td>0</td>\n",
       "    </tr>\n",
       "    <tr>\n",
       "      <th>401666</th>\n",
       "      <td>1950</td>\n",
       "      <td>1965</td>\n",
       "      <td>False</td>\n",
       "      <td>False</td>\n",
       "      <td>00000</td>\n",
       "      <td>000000</td>\n",
       "      <td>125</td>\n",
       "      <td>1</td>\n",
       "      <td>0</td>\n",
       "      <td>0</td>\n",
       "      <td>...</td>\n",
       "      <td>1</td>\n",
       "      <td>0</td>\n",
       "      <td>0</td>\n",
       "      <td>0</td>\n",
       "      <td>0</td>\n",
       "      <td>0</td>\n",
       "      <td>0</td>\n",
       "      <td>0</td>\n",
       "      <td>0</td>\n",
       "      <td>0</td>\n",
       "    </tr>\n",
       "    <tr>\n",
       "      <th>739538</th>\n",
       "      <td>2012</td>\n",
       "      <td>0000</td>\n",
       "      <td>False</td>\n",
       "      <td>True</td>\n",
       "      <td>99999</td>\n",
       "      <td>999999</td>\n",
       "      <td>111</td>\n",
       "      <td>0</td>\n",
       "      <td>0</td>\n",
       "      <td>0</td>\n",
       "      <td>...</td>\n",
       "      <td>1</td>\n",
       "      <td>0</td>\n",
       "      <td>0</td>\n",
       "      <td>0</td>\n",
       "      <td>0</td>\n",
       "      <td>0</td>\n",
       "      <td>0</td>\n",
       "      <td>0</td>\n",
       "      <td>0</td>\n",
       "      <td>0</td>\n",
       "    </tr>\n",
       "  </tbody>\n",
       "</table>\n",
       "<p>5 rows × 614 columns</p>\n",
       "</div>"
      ],
      "text/plain": [
       "        BIRTHYR YRIMMIG  HEALTH_LABEL  INCOME_LABEL INCWELFR INCINVST POVERTY  \\\n",
       "911979     2006    0000          True          True    99999   999999     501   \n",
       "443281     1938    1980         False         False    00000   000000     297   \n",
       "2099469    1933    0000          True          True    00000   001700     420   \n",
       "401666     1950    1965         False         False    00000   000000     125   \n",
       "739538     2012    0000         False          True    99999   999999     111   \n",
       "\n",
       "         MARRNO_Married once  MARRNO_Married thrice (or more)  \\\n",
       "911979                     0                                0   \n",
       "443281                     1                                0   \n",
       "2099469                    1                                0   \n",
       "401666                     1                                0   \n",
       "739538                     0                                0   \n",
       "\n",
       "         MARRNO_Married twice (or more)  \\\n",
       "911979                                0   \n",
       "443281                                0   \n",
       "2099469                               0   \n",
       "401666                                0   \n",
       "739538                                0   \n",
       "\n",
       "                               ...                          DEGFIELD_N/A  \\\n",
       "911979                         ...                                     1   \n",
       "443281                         ...                                     1   \n",
       "2099469                        ...                                     0   \n",
       "401666                         ...                                     1   \n",
       "739538                         ...                                     1   \n",
       "\n",
       "         DEGFIELD_Nuclear, Industrial Radiology, and Biological Technologies  \\\n",
       "911979                                                   0                     \n",
       "443281                                                   0                     \n",
       "2099469                                                  0                     \n",
       "401666                                                   0                     \n",
       "739538                                                   0                     \n",
       "\n",
       "         DEGFIELD_Philosophy and Religious Studies  \\\n",
       "911979                                           0   \n",
       "443281                                           0   \n",
       "2099469                                          0   \n",
       "401666                                           0   \n",
       "739538                                           0   \n",
       "\n",
       "         DEGFIELD_Physical Fitness, Parks, Recreation, and Leisure  \\\n",
       "911979                                                   0           \n",
       "443281                                                   0           \n",
       "2099469                                                  0           \n",
       "401666                                                   0           \n",
       "739538                                                   0           \n",
       "\n",
       "         DEGFIELD_Physical Sciences  DEGFIELD_Psychology  \\\n",
       "911979                            0                    0   \n",
       "443281                            0                    0   \n",
       "2099469                           0                    0   \n",
       "401666                            0                    0   \n",
       "739538                            0                    0   \n",
       "\n",
       "         DEGFIELD_Public Affairs, Policy, and Social Work  \\\n",
       "911979                                                  0   \n",
       "443281                                                  0   \n",
       "2099469                                                 0   \n",
       "401666                                                  0   \n",
       "739538                                                  0   \n",
       "\n",
       "         DEGFIELD_Social Sciences  DEGFIELD_Theology and Religious Vocations  \\\n",
       "911979                          0                                          0   \n",
       "443281                          0                                          0   \n",
       "2099469                         0                                          0   \n",
       "401666                          0                                          0   \n",
       "739538                          0                                          0   \n",
       "\n",
       "         DEGFIELD_Transportation Sciences and Technologies  \n",
       "911979                                                   0  \n",
       "443281                                                   0  \n",
       "2099469                                                  0  \n",
       "401666                                                   0  \n",
       "739538                                                   0  \n",
       "\n",
       "[5 rows x 614 columns]"
      ]
     },
     "execution_count": 4,
     "metadata": {},
     "output_type": "execute_result"
    }
   ],
   "source": [
    "train.head()"
   ]
  },
  {
   "cell_type": "code",
   "execution_count": 5,
   "metadata": {},
   "outputs": [],
   "source": [
    "from experiments.data_utils import *"
   ]
  },
  {
   "cell_type": "code",
   "execution_count": 6,
   "metadata": {},
   "outputs": [
    {
     "name": "stderr",
     "output_type": "stream",
     "text": [
      "  8%|▊         | 48/614 [00:00<00:01, 290.80it/s]"
     ]
    },
    {
     "name": "stdout",
     "output_type": "stream",
     "text": [
      "race_Asian Indian (Hindu 1920_1940): 1272 Pos. (Train) 150 Pos (Test)\n",
      "race_Black/African American/Negro: 7816 Pos. (Train) 905 Pos (Test)\n",
      "race_Cherokee: 84 Pos. (Train) 11 Pos (Test)\n",
      "race_Chinese: 1265 Pos. (Train) 132 Pos (Test)\n",
      "race_Filipino: 840 Pos. (Train) 102 Pos (Test)\n"
     ]
    },
    {
     "name": "stderr",
     "output_type": "stream",
     "text": [
      " 16%|█▌        | 97/614 [00:00<00:02, 230.59it/s]"
     ]
    },
    {
     "name": "stdout",
     "output_type": "stream",
     "text": [
      "race_Japanese: 275 Pos. (Train) 36 Pos (Test)\n",
      "race_Korean: 376 Pos. (Train) 39 Pos (Test)\n",
      "race_Navajo: 122 Pos. (Train) 17 Pos (Test)\n",
      "race_Other Asian, n.e.c.: 45 Pos. (Train) 11 Pos (Test)\n",
      "race_Other race, n.e.c.: 3150 Pos. (Train) 337 Pos (Test)\n",
      "race_Pakistani: 105 Pos. (Train) 13 Pos (Test)\n",
      "race_Tribe not specified: 111 Pos. (Train) 13 Pos (Test)\n",
      "race_Vietnamese: 434 Pos. (Train) 53 Pos (Test)\n"
     ]
    },
    {
     "name": "stderr",
     "output_type": "stream",
     "text": [
      " 22%|██▏       | 138/614 [00:01<00:04, 103.24it/s]"
     ]
    },
    {
     "name": "stdout",
     "output_type": "stream",
     "text": [
      "race_White: 75630 Pos. (Train) 8382 Pos (Test)\n",
      "race_White and AIAN: 585 Pos. (Train) 45 Pos (Test)\n",
      "race_White and Black: 835 Pos. (Train) 97 Pos (Test)\n",
      "race_White and Chinese: 126 Pos. (Train) 12 Pos (Test)\n",
      "race_White and Filipino: 186 Pos. (Train) 24 Pos (Test)\n",
      "race_White and other Asian race(s): 138 Pos. (Train) 15 Pos (Test)\n",
      "race_White and other race write_in: 275 Pos. (Train) 44 Pos (Test)\n"
     ]
    },
    {
     "name": "stderr",
     "output_type": "stream",
     "text": [
      "\r",
      " 26%|██▌       | 157/614 [00:01<00:04, 112.57it/s]"
     ]
    },
    {
     "name": "stdout",
     "output_type": "stream",
     "text": [
      "age_0: 17928 Pos. (Train) 2061 Pos (Test)\n",
      "age_1: 11163 Pos. (Train) 1250 Pos (Test)\n",
      "age_2: 6467 Pos. (Train) 687 Pos (Test)\n",
      "age_3: 12268 Pos. (Train) 1341 Pos (Test)\n",
      "age_4: 13046 Pos. (Train) 1473 Pos (Test)\n",
      "age_5: 14824 Pos. (Train) 1619 Pos (Test)\n",
      "age_6: 12047 Pos. (Train) 1311 Pos (Test)\n",
      "age_7: 5848 Pos. (Train) 679 Pos (Test)\n",
      "age_8: 2065 Pos. (Train) 222 Pos (Test)\n",
      "age_9: 380 Pos. (Train) 43 Pos (Test)\n",
      "gender_Female: 41808 Pos. (Train) 4757 Pos (Test)\n"
     ]
    },
    {
     "name": "stderr",
     "output_type": "stream",
     "text": [
      "100%|██████████| 614/614 [00:02<00:00, 229.93it/s]"
     ]
    },
    {
     "name": "stdout",
     "output_type": "stream",
     "text": [
      "gender_Male: 54228 Pos. (Train) 5929 Pos (Test)\n"
     ]
    },
    {
     "name": "stderr",
     "output_type": "stream",
     "text": [
      "\n"
     ]
    }
   ],
   "source": [
    "c = get_protected_attributes('ipums-small', list(train.columns), label = 'INCOME_LABEL', train = train, test = test)"
   ]
  },
  {
   "cell_type": "code",
   "execution_count": 8,
   "metadata": {},
   "outputs": [
    {
     "data": {
      "text/plain": [
       "32"
      ]
     },
     "execution_count": 8,
     "metadata": {},
     "output_type": "execute_result"
    }
   ],
   "source": [
    "len(c)"
   ]
  },
  {
   "cell_type": "code",
   "execution_count": null,
   "metadata": {},
   "outputs": [],
   "source": []
  }
 ],
 "metadata": {
  "kernelspec": {
   "display_name": "Python 3",
   "language": "python",
   "name": "python3"
  },
  "language_info": {
   "codemirror_mode": {
    "name": "ipython",
    "version": 3
   },
   "file_extension": ".py",
   "mimetype": "text/x-python",
   "name": "python",
   "nbconvert_exporter": "python",
   "pygments_lexer": "ipython3",
   "version": "3.6.4"
  }
 },
 "nbformat": 4,
 "nbformat_minor": 2
}
