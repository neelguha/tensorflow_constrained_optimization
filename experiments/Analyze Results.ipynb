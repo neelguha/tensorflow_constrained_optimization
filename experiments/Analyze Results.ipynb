{
 "cells": [
  {
   "cell_type": "code",
   "execution_count": 2,
   "metadata": {},
   "outputs": [],
   "source": [
    "%load_ext autoreload\n",
    "%autoreload 2"
   ]
  },
  {
   "cell_type": "code",
   "execution_count": 2,
   "metadata": {},
   "outputs": [
    {
     "ename": "Exception",
     "evalue": "Please set environment variable: fairness_data to point towards the data directory",
     "output_type": "error",
     "traceback": [
      "\u001b[0;31m---------------------------------------------------------------------------\u001b[0m",
      "\u001b[0;31mException\u001b[0m                                 Traceback (most recent call last)",
      "\u001b[0;32m<ipython-input-2-c1518ac65ca0>\u001b[0m in \u001b[0;36m<module>\u001b[0;34m()\u001b[0m\n\u001b[1;32m      5\u001b[0m \u001b[0;34m\u001b[0m\u001b[0m\n\u001b[1;32m      6\u001b[0m \u001b[0;32mfrom\u001b[0m \u001b[0mtraining_utils\u001b[0m \u001b[0;32mimport\u001b[0m \u001b[0;34m*\u001b[0m\u001b[0;34m\u001b[0m\u001b[0m\n\u001b[0;32m----> 7\u001b[0;31m \u001b[0;32mfrom\u001b[0m \u001b[0mdata_utils\u001b[0m \u001b[0;32mimport\u001b[0m \u001b[0;34m*\u001b[0m\u001b[0;34m\u001b[0m\u001b[0m\n\u001b[0m",
      "\u001b[0;32m~/Dropbox/NeelResearch/fairness/code/tensorflow_constrained_optimization/experiments/data_utils.py\u001b[0m in \u001b[0;36m<module>\u001b[0;34m()\u001b[0m\n\u001b[1;32m     16\u001b[0m     \u001b[0mDATA_DIR\u001b[0m \u001b[0;34m=\u001b[0m \u001b[0mos\u001b[0m\u001b[0;34m.\u001b[0m\u001b[0menviron\u001b[0m\u001b[0;34m[\u001b[0m\u001b[0;34m'fairness_data'\u001b[0m\u001b[0;34m]\u001b[0m\u001b[0;34m\u001b[0m\u001b[0m\n\u001b[1;32m     17\u001b[0m \u001b[0;32melse\u001b[0m\u001b[0;34m:\u001b[0m\u001b[0;34m\u001b[0m\u001b[0m\n\u001b[0;32m---> 18\u001b[0;31m     \u001b[0;32mraise\u001b[0m \u001b[0mException\u001b[0m\u001b[0;34m(\u001b[0m\u001b[0;34m\"Please set environment variable: fairness_data to point towards the data directory\"\u001b[0m\u001b[0;34m)\u001b[0m\u001b[0;34m\u001b[0m\u001b[0m\n\u001b[0m\u001b[1;32m     19\u001b[0m \u001b[0;34m\u001b[0m\u001b[0m\n\u001b[1;32m     20\u001b[0m \u001b[0;32mif\u001b[0m \u001b[0;34m'results_dir'\u001b[0m \u001b[0;32min\u001b[0m \u001b[0mos\u001b[0m\u001b[0;34m.\u001b[0m\u001b[0menviron\u001b[0m\u001b[0;34m:\u001b[0m\u001b[0;34m\u001b[0m\u001b[0m\n",
      "\u001b[0;31mException\u001b[0m: Please set environment variable: fairness_data to point towards the data directory"
     ]
    }
   ],
   "source": [
    "import json, os\n",
    "import pandas as pd\n",
    "import numpy as np\n",
    "import matplotlib.pyplot as plt\n",
    "\n",
    "from training_utils import *\n",
    "from data_utils import *"
   ]
  },
  {
   "cell_type": "code",
   "execution_count": 55,
   "metadata": {},
   "outputs": [],
   "source": [
    "def get_experiment_group_tpr(data_dir, threshold = 0.05):\n",
    "    train_out = pd.read_pickle(os.path.join(data_dir, 'train_out'))\n",
    "    test_out = pd.read_pickle(os.path.join(data_dir, 'test_out'))\n",
    "    train_col_rate = get_group_tpr_rates(train_out)\n",
    "    test_col_rate = get_group_tpr_rates(test_out)\n",
    "    overall_train = tpr(train_out, \"label\")\n",
    "    overall_test = tpr(test_out, \"label\")\n",
    "    \n",
    "    train_diffs = {}\n",
    "    for key, val in train_col_rate.items():\n",
    "        train_diffs[key] = max(abs(val - overall_train) - 0.05, 0)\n",
    "    \n",
    "    test_diffs = {}\n",
    "    for key, val in test_col_rate.items():\n",
    "        test_diffs[key] = max(abs(val - overall_test) - 0.05, 0)\n",
    "    \n",
    "    return train_diffs, test_diffs\n",
    "def get_group_tpr_rates(df):\n",
    "    overall_tpr_rate = tpr(df, \"label\")\n",
    "    columns = list(df.keys())\n",
    "    col_rates = {}\n",
    "    for col in columns: \n",
    "        if col in ['label', 'predictions', 'predicted_class']:\n",
    "            continue \n",
    "        col_rates[col] = tpr(df[df[col] == 1], \"label\")\n",
    "    return col_rates\n",
    "    "
   ]
  },
  {
   "cell_type": "markdown",
   "metadata": {},
   "source": [
    "## Generalization \n",
    "\n",
    "How well does constraint satisfaction generalize?"
   ]
  },
  {
   "cell_type": "code",
   "execution_count": 56,
   "metadata": {},
   "outputs": [],
   "source": [
    "baseline_results_dir=\"/Users/neelguha/Dropbox/NeelResearch/fairness/code/results/rate_constraints/adult-income/baseline/\"\n",
    "baseline_train_diffs, baseline_test_diffs = get_experiment_group_tpr(baseline_results_dir)"
   ]
  },
  {
   "cell_type": "code",
   "execution_count": 57,
   "metadata": {},
   "outputs": [],
   "source": [
    "agr_results_dir=\"/Users/neelguha/Dropbox/NeelResearch/fairness/code/results/rate_constraints/adult-income/age_gender_race/\"\n",
    "agr_train_diffs, agr_test_diffs = get_experiment_group_tpr(agr_results_dir)"
   ]
  },
  {
   "cell_type": "code",
   "execution_count": 58,
   "metadata": {},
   "outputs": [],
   "source": [
    "gr_results_dir=\"/Users/neelguha/Dropbox/NeelResearch/fairness/code/results/rate_constraints/adult-income/gender_race/\"\n",
    "gr_train_diffs, gr_test_diffs = get_experiment_group_tpr(gr_results_dir)"
   ]
  },
  {
   "cell_type": "code",
   "execution_count": 59,
   "metadata": {},
   "outputs": [],
   "source": [
    "r_results_dir=\"/Users/neelguha/Dropbox/NeelResearch/fairness/code/results/rate_constraints/adult-income/race/\"\n",
    "r_train_diffs, r_test_diffs = get_experiment_group_tpr(r_results_dir)"
   ]
  },
  {
   "cell_type": "markdown",
   "metadata": {},
   "source": [
    "# Mean Train/Test Violations across all groups"
   ]
  },
  {
   "cell_type": "code",
   "execution_count": 60,
   "metadata": {},
   "outputs": [
    {
     "data": {
      "image/png": "[encoded data removed]",
      "text/plain": [
       "<matplotlib.figure.Figure at 0x1300407f0>"
      ]
     },
     "metadata": {},
     "output_type": "display_data"
    }
   ],
   "source": [
    "# get train violations \n",
    "labels = [\"Baseline\",\"R\", \"GR\", \"AGR\"]\n",
    "train_violations = []\n",
    "train_exp = [baseline_train_diffs, r_train_diffs, gr_train_diffs, agr_train_diffs]\n",
    "for exp in train_exp:\n",
    "    violation_mean = np.mean(list(exp.values()))\n",
    "    train_violations.append(violation_mean)\n",
    "    \n",
    "test_violations = []\n",
    "test_exp = [baseline_test_diffs, r_test_diffs, gr_test_diffs, agr_test_diffs]\n",
    "for exp in test_exp:\n",
    "    violation_mean = np.mean(list(exp.values()))\n",
    "    test_violations.append(violation_mean)\n",
    "\n",
    "# set width of bar\n",
    "barWidth = 0.25\n",
    " \n",
    "# Set position of bar on X axis\n",
    "r1 = np.arange(len(train_violations))\n",
    "r2 = [x + barWidth for x in r1]\n",
    "#r3 = [x + barWidth for x in r2]\n",
    "#r4 = [x + barWidth for x in r3]\n",
    " \n",
    "# Make the plot\n",
    "plt.bar(r1, train_violations, width=barWidth, edgecolor='white', label='Train')\n",
    "plt.bar(r2, test_violations, color='#557f2d', width=barWidth, edgecolor='white', label='Test Violations')\n",
    "#plt.bar(r3, bars3, color='#2d7f5e', width=barWidth, edgecolor='white', label='var3')\n",
    " \n",
    "# Add xticks on the middle of the group bars\n",
    "plt.xlabel('group', fontweight='bold')\n",
    "plt.xticks([r + barWidth for r in range(len(train_violations))], labels)\n",
    " \n",
    "# Create legend & Show graphic\n",
    "plt.title(\"Mean Violation across all groups\")\n",
    "plt.legend()\n",
    "plt.show()\n"
   ]
  },
  {
   "cell_type": "markdown",
   "metadata": {},
   "source": [
    "## Max Train/Test Violations across all groups"
   ]
  },
  {
   "cell_type": "code",
   "execution_count": 63,
   "metadata": {},
   "outputs": [
    {
     "data": {
      "image/png": "[encoded data removed]",
      "text/plain": [
       "<matplotlib.figure.Figure at 0x131705160>"
      ]
     },
     "metadata": {},
     "output_type": "display_data"
    }
   ],
   "source": [
    "# get train violations \n",
    "labels = [\"Baseline\",\"R\", \"GR\", \"AGR\"]\n",
    "train_violations = []\n",
    "train_exp = [baseline_train_diffs, r_train_diffs, gr_train_diffs, agr_train_diffs]\n",
    "for exp in train_exp:\n",
    "    violation_mean = np.max(list(exp.values()))\n",
    "    train_violations.append(violation_mean)\n",
    "    \n",
    "test_violations = []\n",
    "test_exp = [baseline_test_diffs, r_test_diffs, gr_test_diffs, agr_test_diffs]\n",
    "for exp in test_exp:\n",
    "    violation_mean = np.max(list(exp.values()))\n",
    "    test_violations.append(violation_mean)\n",
    "\n",
    "# set width of bar\n",
    "barWidth = 0.25\n",
    " \n",
    "# Set position of bar on X axis\n",
    "r1 = np.arange(len(train_violations))\n",
    "r2 = [x + barWidth for x in r1]\n",
    "#r3 = [x + barWidth for x in r2]\n",
    "#r4 = [x + barWidth for x in r3]\n",
    " \n",
    "# Make the plot\n",
    "plt.bar(r1, train_violations, width=barWidth, edgecolor='white', label='Train')\n",
    "plt.bar(r2, test_violations, color='#557f2d', width=barWidth, edgecolor='white', label='Test Violations')\n",
    "#plt.bar(r3, bars3, color='#2d7f5e', width=barWidth, edgecolor='white', label='var3')\n",
    " \n",
    "# Add xticks on the middle of the group bars\n",
    "plt.xlabel('group', fontweight='bold')\n",
    "plt.xticks([r + barWidth for r in range(len(train_violations))], labels)\n",
    " \n",
    "# Create legend & Show graphic\n",
    "plt.title(\"Max Violation\")\n",
    "plt.legend()\n",
    "plt.show()\n"
   ]
  },
  {
   "cell_type": "code",
   "execution_count": 64,
   "metadata": {},
   "outputs": [
    {
     "data": {
      "text/plain": [
       "{'race_Amer-Indian-Eskimo': 0.007989343762842036,\n",
       " 'race_Asian-Pac-Islander': 0,\n",
       " 'race_Black': 0.011219317923048797,\n",
       " 'race_Other': 0.12423287845938018,\n",
       " 'race_White': 0}"
      ]
     },
     "execution_count": 64,
     "metadata": {},
     "output_type": "execute_result"
    }
   ],
   "source": [
    "r_train_diffs"
   ]
  },
  {
   "cell_type": "code",
   "execution_count": null,
   "metadata": {},
   "outputs": [],
   "source": []
  }
 ],
 "metadata": {
  "kernelspec": {
   "display_name": "Python 3",
   "language": "python",
   "name": "python3"
  },
  "language_info": {
   "codemirror_mode": {
    "name": "ipython",
    "version": 3
   },
   "file_extension": ".py",
   "mimetype": "text/x-python",
   "name": "python",
   "nbconvert_exporter": "python",
   "pygments_lexer": "ipython3",
   "version": "3.6.4"
  }
 },
 "nbformat": 4,
 "nbformat_minor": 2
}
