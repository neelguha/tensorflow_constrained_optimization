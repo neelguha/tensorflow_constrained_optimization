{
 "cells": [
  {
   "cell_type": "code",
   "execution_count": 1,
   "metadata": {},
   "outputs": [],
   "source": [
    "%load_ext autoreload\n",
    "%autoreload 2"
   ]
  },
  {
   "cell_type": "code",
   "execution_count": 11,
   "metadata": {},
   "outputs": [],
   "source": [
    "import os, sys\n",
    "os.environ['fairness_data'] = '../../data/'\n",
    "os.environ['results_dir'] = '.'\n",
    "from models import *\n",
    "from training_utils import *\n",
    "from data_utils import *\n",
    "from eo_fairness_experiment import *"
   ]
  },
  {
   "cell_type": "code",
   "execution_count": 17,
   "metadata": {},
   "outputs": [
    {
     "name": "stdout",
     "output_type": "stream",
     "text": [
      "['marital_status_Divorced', 'marital_status_Married-AF-spouse', 'marital_status_Married-civ-spouse', 'marital_status_Married-spouse-absent', 'marital_status_Never-married', 'marital_status_Separated', 'marital_status_Widowed', 'race_Amer-Indian-Eskimo', 'race_Asian-Pac-Islander', 'race_Black', 'race_Other', 'race_White', 'gender_Female', 'gender_Male', 'age_0.0', 'age_1.0', 'age_2.0', 'age_3.0', 'education_num_0', 'education_num_1', 'education_num_2', 'education_num_3']\n"
     ]
    }
   ],
   "source": [
    "train_df, test_df, feature_names, label_column = load_adult_data()\n",
    "all_protected_columns = get_protected_attributes('adult-income', feature_names)\n",
    "print(all_protected_columns)"
   ]
  },
  {
   "cell_type": "code",
   "execution_count": 18,
   "metadata": {},
   "outputs": [
    {
     "name": "stdout",
     "output_type": "stream",
     "text": [
      "['age_0.0', 'age_1.0', 'age_2.0', 'age_3.0']\n"
     ]
    }
   ],
   "source": [
    "active_protected_columns = [col for col in all_protected_columns if 'age' in col]\n",
    "print(active_protected_columns)"
   ]
  },
  {
   "cell_type": "code",
   "execution_count": 21,
   "metadata": {},
   "outputs": [
    {
     "name": "stdout",
     "output_type": "stream",
     "text": [
      "['age_0.0']\n",
      "['age_1.0']\n",
      "['age_2.0']\n",
      "['age_3.0']\n"
     ]
    }
   ],
   "source": [
    "train_violation, test_violation, scores = run_eo_experiment( \n",
    "    train_df, test_df, feature_names, label_column, \n",
    "    active_protected_columns, all_protected_columns, epochs=40, \n",
    "    minibatch_size=32,  max_diff=0.05, lr=0.001\n",
    ")"
   ]
  },
  {
   "cell_type": "code",
   "execution_count": 22,
   "metadata": {},
   "outputs": [
    {
     "data": {
      "text/plain": [
       "{'age_0.0': 0,\n",
       " 'age_1.0': 0,\n",
       " 'age_2.0': 0,\n",
       " 'age_3.0': 0,\n",
       " 'education_num_0': 0.2317613803859913,\n",
       " 'education_num_1': 0.2361142064197569,\n",
       " 'education_num_2': 0.17989883021155306,\n",
       " 'education_num_3': 0.17756450114448236,\n",
       " 'gender_Female': 0.0005672592219039124,\n",
       " 'gender_Male': 0,\n",
       " 'marital_status_Divorced': 0.19754936324900157,\n",
       " 'marital_status_Married-AF-spouse': 0.03463206223695951,\n",
       " 'marital_status_Married-civ-spouse': 0,\n",
       " 'marital_status_Married-spouse-absent': 0.259485584821864,\n",
       " 'marital_status_Never-married': 0.20263881352678792,\n",
       " 'marital_status_Separated': 0.16233763473273743,\n",
       " 'marital_status_Widowed': 0.17125029070421693,\n",
       " 'race_Amer-Indian-Eskimo': 0.07647904887415156,\n",
       " 'race_Asian-Pac-Islander': 0,\n",
       " 'race_Black': 0,\n",
       " 'race_Other': 0.14536793776304047,\n",
       " 'race_White': 0}"
      ]
     },
     "execution_count": 22,
     "metadata": {},
     "output_type": "execute_result"
    }
   ],
   "source": [
    "train_violation"
   ]
  },
  {
   "cell_type": "code",
   "execution_count": 23,
   "metadata": {},
   "outputs": [
    {
     "data": {
      "text/plain": [
       "{'age_0.0': 0.006727883150413713,\n",
       " 'age_1.0': 0,\n",
       " 'age_2.0': 0,\n",
       " 'age_3.0': 0,\n",
       " 'education_num_0': 0.268495690647298,\n",
       " 'education_num_1': 0.22996714071461405,\n",
       " 'education_num_2': 0.17745038833811416,\n",
       " 'education_num_3': 0.17391706741606244,\n",
       " 'gender_Female': 0,\n",
       " 'gender_Male': 0,\n",
       " 'marital_status_Divorced': 0.13971258850354012,\n",
       " 'marital_status_Married-AF-spouse': 0.4429797191887676,\n",
       " 'marital_status_Married-civ-spouse': 0,\n",
       " 'marital_status_Married-spouse-absent': 0.16535361414456573,\n",
       " 'marital_status_Never-married': 0.1966897022988357,\n",
       " 'marital_status_Separated': 0.24489906869002026,\n",
       " 'marital_status_Widowed': 0.10818307150890681,\n",
       " 'race_Amer-Indian-Eskimo': 0.19386238607439032,\n",
       " 'race_Asian-Pac-Islander': 0.021927087609820248,\n",
       " 'race_Black': 0.02126609086709834,\n",
       " 'race_Other': 0.1770202808112324,\n",
       " 'race_White': 0}"
      ]
     },
     "execution_count": 23,
     "metadata": {},
     "output_type": "execute_result"
    }
   ],
   "source": [
    "test_violation"
   ]
  },
  {
   "cell_type": "code",
   "execution_count": 24,
   "metadata": {},
   "outputs": [
    {
     "data": {
      "text/plain": [
       "{'accuracy': 0.8485965235550642, 'tpr': 0.5070202808112324}"
      ]
     },
     "execution_count": 24,
     "metadata": {},
     "output_type": "execute_result"
    }
   ],
   "source": [
    "scores"
   ]
  },
  {
   "cell_type": "code",
   "execution_count": null,
   "metadata": {},
   "outputs": [],
   "source": []
  }
 ],
 "metadata": {
  "kernelspec": {
   "display_name": "Python 3",
   "language": "python",
   "name": "python3"
  },
  "language_info": {
   "codemirror_mode": {
    "name": "ipython",
    "version": 3
   },
   "file_extension": ".py",
   "mimetype": "text/x-python",
   "name": "python",
   "nbconvert_exporter": "python",
   "pygments_lexer": "ipython3",
   "version": "3.6.4"
  }
 },
 "nbformat": 4,
 "nbformat_minor": 2
}
