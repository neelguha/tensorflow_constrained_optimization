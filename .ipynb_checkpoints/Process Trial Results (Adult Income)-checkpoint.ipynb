{
 "cells": [
  {
   "cell_type": "code",
   "execution_count": 1,
   "metadata": {},
   "outputs": [],
   "source": [
    "%load_ext autoreload\n",
    "%autoreload 2"
   ]
  },
  {
   "cell_type": "code",
   "execution_count": 2,
   "metadata": {},
   "outputs": [],
   "source": [
    "import json, os\n",
    "import pandas as pd\n",
    "import numpy as np\n",
    "import matplotlib.pyplot as plt"
   ]
  },
  {
   "cell_type": "code",
   "execution_count": 3,
   "metadata": {},
   "outputs": [],
   "source": [
    "with open(\"../results/rate_constraints/adult-income/trials/results.json\", 'r') as in_file:\n",
    "    results = json.load(in_file)"
   ]
  },
  {
   "cell_type": "code",
   "execution_count": 79,
   "metadata": {},
   "outputs": [],
   "source": [
    "def compute_score_mean(d):\n",
    "    # compute mean of violations\n",
    "    return np.mean(np.array(list(d.values())))\n",
    "\n",
    "def compute_score_median(d):\n",
    "    # compute mean of violations\n",
    "    return np.median(np.array(list(d.values())))\n",
    "\n",
    "def compute_score_max(d):\n",
    "    # compute mean of violations\n",
    "    return np.max(np.array(list(d.values())))"
   ]
  },
  {
   "cell_type": "code",
   "execution_count": null,
   "metadata": {},
   "outputs": [],
   "source": [
    "def get_scores(results, key, func):\n",
    "    all_scores = []\n",
    "    constraint_set = ['0', '5', '10', '15', '22']\n",
    "    for num_constraints in constraint_set:\n",
    "        trials = results[num_constraints]\n",
    "        trial_scores = []\n",
    "        for trial_num in trials.keys():\n",
    "            score = func(trials[trial_num]['key'])\n",
    "            trial_scores.append(score)\n",
    "        all_scores.append(trial_scores)\n",
    "    test_min_scores = []\n",
    "    test_mean_scores = []\n",
    "    test_max_scores = []\n",
    "    for i in range(len(all_scores)):\n",
    "        if i == 0:\n",
    "            continue\n",
    "        min_scores.append(min(all_scores[i]))\n",
    "        test_mean_scores.append(np.mean(all_scores[i]))\n",
    "        test_max_scores.append(max(all_scores[i]))\n",
    "    min_scores = np.array(min_scores)\n",
    "    mean_scores = np.array(test_mean_scores)\n",
    "    max_scores = np.array(test_max_scores)\n",
    "    return min_scores, mean_scores, max_scores"
   ]
  },
  {
   "cell_type": "markdown",
   "metadata": {},
   "source": [
    "# Result 1: Overall constraint satisfaction score "
   ]
  },
  {
   "cell_type": "code",
   "execution_count": 71,
   "metadata": {},
   "outputs": [],
   "source": [
    "# get test\n",
    "test_all_scores = []\n",
    "constraint_set = ['0', '5', '10', '15', '22']\n",
    "for num_constraints in constraint_set:\n",
    "    trials = results[num_constraints]\n",
    "    trial_scores = []\n",
    "    for trial_num in trials.keys():\n",
    "        score = compute_overall_score(trials[trial_num]['test_violation'])\n",
    "        trial_scores.append(score)\n",
    "    test_all_scores.append(trial_scores)\n",
    "test_min_scores = []\n",
    "test_mean_scores = []\n",
    "test_max_scores = []\n",
    "for i in range(len(all_scores)):\n",
    "    if i == 0:\n",
    "        continue\n",
    "    test_min_scores.append(min(test_all_scores[i]))\n",
    "    test_mean_scores.append(np.mean(test_all_scores[i]))\n",
    "    test_max_scores.append(max(test_all_scores[i]))\n",
    "test_mean_scores = np.array(test_mean_scores)\n",
    "test_min_scores = np.array(test_min_scores)\n",
    "test_max_scores = np.array(test_max_scores)"
   ]
  },
  {
   "cell_type": "code",
   "execution_count": 72,
   "metadata": {},
   "outputs": [],
   "source": [
    "# get train\n",
    "train_all_scores = []\n",
    "constraint_set = ['0', '5', '10', '15', '22']\n",
    "for num_constraints in constraint_set:\n",
    "    trials = results[num_constraints]\n",
    "    trial_scores = []\n",
    "    for trial_num in trials.keys():\n",
    "        score = compute_overall_score(trials[trial_num]['train_violation'])\n",
    "        trial_scores.append(score)\n",
    "    train_all_scores.append(trial_scores)\n",
    "train_min_scores = []\n",
    "train_mean_scores = []\n",
    "train_max_scores = []\n",
    "for i in range(len(all_scores)):\n",
    "    if i == 0:\n",
    "        continue\n",
    "    train_min_scores.append(min(train_all_scores[i]))\n",
    "    train_mean_scores.append(np.mean(train_all_scores[i]))\n",
    "    train_max_scores.append(max(train_all_scores[i]))\n",
    "train_mean_scores = np.array(train_mean_scores)\n",
    "train_min_scores = np.array(train_min_scores)\n",
    "train_max_scores = np.array(train_max_scores)"
   ]
  },
  {
   "cell_type": "code",
   "execution_count": 73,
   "metadata": {},
   "outputs": [
    {
     "data": {
      "image/png": "[encoded data removed]",
      "text/plain": [
       "<matplotlib.figure.Figure at 0x118abca20>"
      ]
     },
     "metadata": {},
     "output_type": "display_data"
    }
   ],
   "source": [
    "active_constraint_set = [5, 10, 15, 22]\n",
    "plt.hlines(y=train_all_scores[0], xmin=5, xmax=22, label=\"Baseline (Train)\", color=\"red\")\n",
    "plt.plot(active_constraint_set, train_mean_scores, label=\"Train violation error\", color=\"red\")\n",
    "#plt.fill_between(active_constraint_set, train_min_scores, train_max_scores, alpha=0.25)\n",
    "\n",
    "plt.hlines(y=test_all_scores[0], xmin=5, xmax=22, label=\"Baseline (Test)\", color=\"blue\")\n",
    "plt.plot(active_constraint_set, test_mean_scores, label=\"Test violation error\", color=\"blue\")\n",
    "#plt.fill_between(active_constraint_set,  test_min_scores, test_max_scores, alpha=0.25)\n",
    "plt.title(\"Constraint performance\")\n",
    "plt.legend()\n",
    "plt.show()"
   ]
  },
  {
   "cell_type": "code",
   "execution_count": 77,
   "metadata": {},
   "outputs": [
    {
     "data": {
      "text/plain": [
       "{'0': {'scores': {'accuracy': 0.8145077083717216, 'tpr': 0.2951118044721789},\n",
       "  'test_violation': {'age_0.0': 0,\n",
       "   'age_1.0': 0,\n",
       "   'age_2.0': 0,\n",
       "   'age_3.0': 0,\n",
       "   'education_num_0': 0.03199705037381824,\n",
       "   'education_num_1': 0,\n",
       "   'education_num_2': 0,\n",
       "   'education_num_3': 0,\n",
       "   'gender_Female': 0,\n",
       "   'gender_Male': 0,\n",
       "   'marital_status_Divorced': 0.0010420416816672579,\n",
       "   'marital_status_Married-AF-spouse': 0.6548881955278211,\n",
       "   'marital_status_Married-civ-spouse': 0,\n",
       "   'marital_status_Married-spouse-absent': 0,\n",
       "   'marital_status_Never-married': 0,\n",
       "   'marital_status_Separated': 0,\n",
       "   'marital_status_Widowed': 0.09674866064410019,\n",
       "   'race_Amer-Indian-Eskimo': 0.03458548868270521,\n",
       "   'race_Asian-Pac-Islander': 0,\n",
       "   'race_Black': 0,\n",
       "   'race_Other': 0,\n",
       "   'race_White': 0},\n",
       "  'train_violation': {'age_0.0': 0,\n",
       "   'age_1.0': 0,\n",
       "   'age_2.0': 0,\n",
       "   'age_3.0': 0,\n",
       "   'education_num_0': 0,\n",
       "   'education_num_1': 0,\n",
       "   'education_num_2': 0,\n",
       "   'education_num_3': 0,\n",
       "   'gender_Female': 0,\n",
       "   'gender_Male': 0,\n",
       "   'marital_status_Divorced': 0,\n",
       "   'marital_status_Married-AF-spouse': 0.6488904476469838,\n",
       "   'marital_status_Married-civ-spouse': 0,\n",
       "   'marital_status_Married-spouse-absent': 0,\n",
       "   'marital_status_Never-married': 0,\n",
       "   'marital_status_Separated': 0,\n",
       "   'marital_status_Widowed': 0,\n",
       "   'race_Amer-Indian-Eskimo': 0,\n",
       "   'race_Asian-Pac-Islander': 0,\n",
       "   'race_Black': 0,\n",
       "   'race_Other': 0,\n",
       "   'race_White': 0}}}"
      ]
     },
     "execution_count": 77,
     "metadata": {},
     "output_type": "execute_result"
    }
   ],
   "source": [
    "results['22']"
   ]
  },
  {
   "cell_type": "code",
   "execution_count": null,
   "metadata": {},
   "outputs": [],
   "source": []
  }
 ],
 "metadata": {
  "kernelspec": {
   "display_name": "Python 3",
   "language": "python",
   "name": "python3"
  },
  "language_info": {
   "codemirror_mode": {
    "name": "ipython",
    "version": 3
   },
   "file_extension": ".py",
   "mimetype": "text/x-python",
   "name": "python",
   "nbconvert_exporter": "python",
   "pygments_lexer": "ipython3",
   "version": "3.6.4"
  }
 },
 "nbformat": 4,
 "nbformat_minor": 2
}
